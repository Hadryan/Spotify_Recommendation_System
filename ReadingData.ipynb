{
 "cells": [
  {
   "cell_type": "code",
   "execution_count": 1,
   "metadata": {},
   "outputs": [],
   "source": [
    "import pandas as pd"
   ]
  },
  {
   "cell_type": "code",
   "execution_count": 9,
   "metadata": {},
   "outputs": [],
   "source": [
    "df = pd.read_csv('data')"
   ]
  },
  {
   "cell_type": "code",
   "execution_count": 11,
   "metadata": {},
   "outputs": [],
   "source": [
    "df.drop(['Unnamed: 0'], axis=1, inplace=True)"
   ]
  },
  {
   "cell_type": "code",
   "execution_count": 12,
   "metadata": {},
   "outputs": [
    {
     "data": {
      "text/html": [
       "<div>\n",
       "<style scoped>\n",
       "    .dataframe tbody tr th:only-of-type {\n",
       "        vertical-align: middle;\n",
       "    }\n",
       "\n",
       "    .dataframe tbody tr th {\n",
       "        vertical-align: top;\n",
       "    }\n",
       "\n",
       "    .dataframe thead th {\n",
       "        text-align: right;\n",
       "    }\n",
       "</style>\n",
       "<table border=\"1\" class=\"dataframe\">\n",
       "  <thead>\n",
       "    <tr style=\"text-align: right;\">\n",
       "      <th></th>\n",
       "      <th>artist</th>\n",
       "      <th>album</th>\n",
       "      <th>track_name</th>\n",
       "      <th>release_date</th>\n",
       "      <th>track_id</th>\n",
       "    </tr>\n",
       "  </thead>\n",
       "  <tbody>\n",
       "    <tr>\n",
       "      <th>0</th>\n",
       "      <td>Katy Perry</td>\n",
       "      <td>Katy Perry - Teenage Dream: The Complete Confe...</td>\n",
       "      <td>Firework</td>\n",
       "      <td>2012-03-12</td>\n",
       "      <td>4lCv7b86sLynZbXhfScfm2</td>\n",
       "    </tr>\n",
       "    <tr>\n",
       "      <th>1</th>\n",
       "      <td>OneRepublic</td>\n",
       "      <td>Dreaming Out Loud</td>\n",
       "      <td>All We Are</td>\n",
       "      <td>2007-01-01</td>\n",
       "      <td>1Jx69b09LKTuBQxkEiFfVX</td>\n",
       "    </tr>\n",
       "    <tr>\n",
       "      <th>2</th>\n",
       "      <td>Amy Winehouse</td>\n",
       "      <td>Back To Black</td>\n",
       "      <td>Wake Up Alone</td>\n",
       "      <td>2006-01-01</td>\n",
       "      <td>4u83mwF5tUuWlXS86UOXdu</td>\n",
       "    </tr>\n",
       "    <tr>\n",
       "      <th>3</th>\n",
       "      <td>The Script</td>\n",
       "      <td>The Script</td>\n",
       "      <td>The Man Who Can't Be Moved</td>\n",
       "      <td>2008-09-08</td>\n",
       "      <td>4Musyaro0NM5Awx8b5c627</td>\n",
       "    </tr>\n",
       "    <tr>\n",
       "      <th>4</th>\n",
       "      <td>Adele</td>\n",
       "      <td>21</td>\n",
       "      <td>Rolling in the Deep</td>\n",
       "      <td>2011-01-19</td>\n",
       "      <td>1CkvWZme3pRgbzaxZnTl5X</td>\n",
       "    </tr>\n",
       "  </tbody>\n",
       "</table>\n",
       "</div>"
      ],
      "text/plain": [
       "          artist                                              album  \\\n",
       "0     Katy Perry  Katy Perry - Teenage Dream: The Complete Confe...   \n",
       "1    OneRepublic                                  Dreaming Out Loud   \n",
       "2  Amy Winehouse                                      Back To Black   \n",
       "3     The Script                                         The Script   \n",
       "4          Adele                                                 21   \n",
       "\n",
       "                   track_name release_date                track_id  \n",
       "0                    Firework   2012-03-12  4lCv7b86sLynZbXhfScfm2  \n",
       "1                  All We Are   2007-01-01  1Jx69b09LKTuBQxkEiFfVX  \n",
       "2               Wake Up Alone   2006-01-01  4u83mwF5tUuWlXS86UOXdu  \n",
       "3  The Man Who Can't Be Moved   2008-09-08  4Musyaro0NM5Awx8b5c627  \n",
       "4         Rolling in the Deep   2011-01-19  1CkvWZme3pRgbzaxZnTl5X  "
      ]
     },
     "execution_count": 12,
     "metadata": {},
     "output_type": "execute_result"
    }
   ],
   "source": [
    "df.head()"
   ]
  },
  {
   "cell_type": "code",
   "execution_count": 13,
   "metadata": {},
   "outputs": [
    {
     "data": {
      "text/plain": [
       "(9963, 5)"
      ]
     },
     "execution_count": 13,
     "metadata": {},
     "output_type": "execute_result"
    }
   ],
   "source": [
    "df.shape"
   ]
  },
  {
   "cell_type": "code",
   "execution_count": null,
   "metadata": {},
   "outputs": [],
   "source": []
  }
 ],
 "metadata": {
  "kernelspec": {
   "display_name": "Python 3",
   "language": "python",
   "name": "python3"
  },
  "language_info": {
   "codemirror_mode": {
    "name": "ipython",
    "version": 3
   },
   "file_extension": ".py",
   "mimetype": "text/x-python",
   "name": "python",
   "nbconvert_exporter": "python",
   "pygments_lexer": "ipython3",
   "version": "3.6.9"
  }
 },
 "nbformat": 4,
 "nbformat_minor": 4
}
