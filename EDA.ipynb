{
 "cells": [
  {
   "cell_type": "code",
   "execution_count": 1,
   "metadata": {},
   "outputs": [],
   "source": [
    "#Import necessary packages\n",
    "import pandas as pd\n",
    "import seaborn as sns\n",
    "import matplotlib.pyplot as plt\n",
    "%matplotlib inline"
   ]
  },
  {
   "cell_type": "code",
   "execution_count": 2,
   "metadata": {},
   "outputs": [],
   "source": [
    "#Import DataFrames\n",
    "playlist = pd.read_csv('playlistdf')\n",
    "playlist.drop(['Unnamed: 0'], axis=1, inplace=True)\n",
    "audio = pd.read_csv('dfaudio')\n",
    "audio.drop(['Unnamed: 0'], axis=1, inplace=True)"
   ]
  },
  {
   "cell_type": "markdown",
   "metadata": {},
   "source": [
    "### Data Cleaning"
   ]
  },
  {
   "cell_type": "code",
   "execution_count": 3,
   "metadata": {
    "scrolled": true
   },
   "outputs": [
    {
     "data": {
      "text/html": [
       "<div>\n",
       "<style scoped>\n",
       "    .dataframe tbody tr th:only-of-type {\n",
       "        vertical-align: middle;\n",
       "    }\n",
       "\n",
       "    .dataframe tbody tr th {\n",
       "        vertical-align: top;\n",
       "    }\n",
       "\n",
       "    .dataframe thead th {\n",
       "        text-align: right;\n",
       "    }\n",
       "</style>\n",
       "<table border=\"1\" class=\"dataframe\">\n",
       "  <thead>\n",
       "    <tr style=\"text-align: right;\">\n",
       "      <th></th>\n",
       "      <th>artist</th>\n",
       "      <th>artist_id</th>\n",
       "      <th>album</th>\n",
       "      <th>track_name</th>\n",
       "      <th>release_date</th>\n",
       "      <th>popularity</th>\n",
       "      <th>is_explicit</th>\n",
       "      <th>track_id</th>\n",
       "    </tr>\n",
       "  </thead>\n",
       "  <tbody>\n",
       "    <tr>\n",
       "      <th>0</th>\n",
       "      <td>Katy Perry</td>\n",
       "      <td>6jJ0s89eD6GaHleKKya26X</td>\n",
       "      <td>Katy Perry - Teenage Dream: The Complete Confe...</td>\n",
       "      <td>Firework</td>\n",
       "      <td>2012-03-12</td>\n",
       "      <td>72</td>\n",
       "      <td>False</td>\n",
       "      <td>4lCv7b86sLynZbXhfScfm2</td>\n",
       "    </tr>\n",
       "    <tr>\n",
       "      <th>1</th>\n",
       "      <td>OneRepublic</td>\n",
       "      <td>5Pwc4xIPtQLFEnJriah9YJ</td>\n",
       "      <td>Dreaming Out Loud</td>\n",
       "      <td>All We Are</td>\n",
       "      <td>2007-01-01</td>\n",
       "      <td>39</td>\n",
       "      <td>False</td>\n",
       "      <td>1Jx69b09LKTuBQxkEiFfVX</td>\n",
       "    </tr>\n",
       "    <tr>\n",
       "      <th>2</th>\n",
       "      <td>Amy Winehouse</td>\n",
       "      <td>6Q192DXotxtaysaqNPy5yR</td>\n",
       "      <td>Back To Black</td>\n",
       "      <td>Wake Up Alone</td>\n",
       "      <td>2006-01-01</td>\n",
       "      <td>0</td>\n",
       "      <td>False</td>\n",
       "      <td>4u83mwF5tUuWlXS86UOXdu</td>\n",
       "    </tr>\n",
       "    <tr>\n",
       "      <th>3</th>\n",
       "      <td>The Script</td>\n",
       "      <td>3AQRLZ9PuTAozP28Skbq8V</td>\n",
       "      <td>The Script</td>\n",
       "      <td>The Man Who Can't Be Moved</td>\n",
       "      <td>2008-09-08</td>\n",
       "      <td>57</td>\n",
       "      <td>False</td>\n",
       "      <td>4Musyaro0NM5Awx8b5c627</td>\n",
       "    </tr>\n",
       "    <tr>\n",
       "      <th>4</th>\n",
       "      <td>Adele</td>\n",
       "      <td>4dpARuHxo51G3z768sgnrY</td>\n",
       "      <td>21</td>\n",
       "      <td>Rolling in the Deep</td>\n",
       "      <td>2011-01-19</td>\n",
       "      <td>55</td>\n",
       "      <td>False</td>\n",
       "      <td>1CkvWZme3pRgbzaxZnTl5X</td>\n",
       "    </tr>\n",
       "  </tbody>\n",
       "</table>\n",
       "</div>"
      ],
      "text/plain": [
       "          artist               artist_id  \\\n",
       "0     Katy Perry  6jJ0s89eD6GaHleKKya26X   \n",
       "1    OneRepublic  5Pwc4xIPtQLFEnJriah9YJ   \n",
       "2  Amy Winehouse  6Q192DXotxtaysaqNPy5yR   \n",
       "3     The Script  3AQRLZ9PuTAozP28Skbq8V   \n",
       "4          Adele  4dpARuHxo51G3z768sgnrY   \n",
       "\n",
       "                                               album  \\\n",
       "0  Katy Perry - Teenage Dream: The Complete Confe...   \n",
       "1                                  Dreaming Out Loud   \n",
       "2                                      Back To Black   \n",
       "3                                         The Script   \n",
       "4                                                 21   \n",
       "\n",
       "                   track_name release_date  popularity  is_explicit  \\\n",
       "0                    Firework   2012-03-12          72        False   \n",
       "1                  All We Are   2007-01-01          39        False   \n",
       "2               Wake Up Alone   2006-01-01           0        False   \n",
       "3  The Man Who Can't Be Moved   2008-09-08          57        False   \n",
       "4         Rolling in the Deep   2011-01-19          55        False   \n",
       "\n",
       "                 track_id  \n",
       "0  4lCv7b86sLynZbXhfScfm2  \n",
       "1  1Jx69b09LKTuBQxkEiFfVX  \n",
       "2  4u83mwF5tUuWlXS86UOXdu  \n",
       "3  4Musyaro0NM5Awx8b5c627  \n",
       "4  1CkvWZme3pRgbzaxZnTl5X  "
      ]
     },
     "execution_count": 3,
     "metadata": {},
     "output_type": "execute_result"
    }
   ],
   "source": [
    "#Explore first 5 rows of playlist dataset \n",
    "playlist.head()"
   ]
  },
  {
   "cell_type": "code",
   "execution_count": 4,
   "metadata": {},
   "outputs": [
    {
     "data": {
      "text/html": [
       "<div>\n",
       "<style scoped>\n",
       "    .dataframe tbody tr th:only-of-type {\n",
       "        vertical-align: middle;\n",
       "    }\n",
       "\n",
       "    .dataframe tbody tr th {\n",
       "        vertical-align: top;\n",
       "    }\n",
       "\n",
       "    .dataframe thead th {\n",
       "        text-align: right;\n",
       "    }\n",
       "</style>\n",
       "<table border=\"1\" class=\"dataframe\">\n",
       "  <thead>\n",
       "    <tr style=\"text-align: right;\">\n",
       "      <th></th>\n",
       "      <th>danceability</th>\n",
       "      <th>energy</th>\n",
       "      <th>key</th>\n",
       "      <th>loudness</th>\n",
       "      <th>mode</th>\n",
       "      <th>speechiness</th>\n",
       "      <th>acousticness</th>\n",
       "      <th>instrumentalness</th>\n",
       "      <th>liveness</th>\n",
       "      <th>valence</th>\n",
       "      <th>tempo</th>\n",
       "      <th>type</th>\n",
       "      <th>id</th>\n",
       "      <th>uri</th>\n",
       "      <th>track_href</th>\n",
       "      <th>analysis_url</th>\n",
       "      <th>duration_ms</th>\n",
       "      <th>time_signature</th>\n",
       "    </tr>\n",
       "  </thead>\n",
       "  <tbody>\n",
       "    <tr>\n",
       "      <th>0</th>\n",
       "      <td>0.638</td>\n",
       "      <td>0.826</td>\n",
       "      <td>8</td>\n",
       "      <td>-4.968</td>\n",
       "      <td>1</td>\n",
       "      <td>0.0479</td>\n",
       "      <td>0.1390</td>\n",
       "      <td>0.000000</td>\n",
       "      <td>0.0803</td>\n",
       "      <td>0.649</td>\n",
       "      <td>124.072</td>\n",
       "      <td>audio_features</td>\n",
       "      <td>4lCv7b86sLynZbXhfScfm2</td>\n",
       "      <td>spotify:track:4lCv7b86sLynZbXhfScfm2</td>\n",
       "      <td>https://api.spotify.com/v1/tracks/4lCv7b86sLyn...</td>\n",
       "      <td>https://api.spotify.com/v1/audio-analysis/4lCv...</td>\n",
       "      <td>227880</td>\n",
       "      <td>4</td>\n",
       "    </tr>\n",
       "    <tr>\n",
       "      <th>1</th>\n",
       "      <td>0.397</td>\n",
       "      <td>0.817</td>\n",
       "      <td>2</td>\n",
       "      <td>-5.495</td>\n",
       "      <td>1</td>\n",
       "      <td>0.0420</td>\n",
       "      <td>0.0966</td>\n",
       "      <td>0.000008</td>\n",
       "      <td>0.3160</td>\n",
       "      <td>0.416</td>\n",
       "      <td>158.004</td>\n",
       "      <td>audio_features</td>\n",
       "      <td>1Jx69b09LKTuBQxkEiFfVX</td>\n",
       "      <td>spotify:track:1Jx69b09LKTuBQxkEiFfVX</td>\n",
       "      <td>https://api.spotify.com/v1/tracks/1Jx69b09LKTu...</td>\n",
       "      <td>https://api.spotify.com/v1/audio-analysis/1Jx6...</td>\n",
       "      <td>266227</td>\n",
       "      <td>4</td>\n",
       "    </tr>\n",
       "    <tr>\n",
       "      <th>2</th>\n",
       "      <td>0.384</td>\n",
       "      <td>0.527</td>\n",
       "      <td>11</td>\n",
       "      <td>-5.294</td>\n",
       "      <td>0</td>\n",
       "      <td>0.0269</td>\n",
       "      <td>0.5420</td>\n",
       "      <td>0.000000</td>\n",
       "      <td>0.1560</td>\n",
       "      <td>0.222</td>\n",
       "      <td>100.730</td>\n",
       "      <td>audio_features</td>\n",
       "      <td>4u83mwF5tUuWlXS86UOXdu</td>\n",
       "      <td>spotify:track:4u83mwF5tUuWlXS86UOXdu</td>\n",
       "      <td>https://api.spotify.com/v1/tracks/4u83mwF5tUuW...</td>\n",
       "      <td>https://api.spotify.com/v1/audio-analysis/4u83...</td>\n",
       "      <td>221200</td>\n",
       "      <td>3</td>\n",
       "    </tr>\n",
       "    <tr>\n",
       "      <th>3</th>\n",
       "      <td>0.609</td>\n",
       "      <td>0.629</td>\n",
       "      <td>10</td>\n",
       "      <td>-5.024</td>\n",
       "      <td>1</td>\n",
       "      <td>0.0264</td>\n",
       "      <td>0.4250</td>\n",
       "      <td>0.000000</td>\n",
       "      <td>0.0978</td>\n",
       "      <td>0.325</td>\n",
       "      <td>99.955</td>\n",
       "      <td>audio_features</td>\n",
       "      <td>4Musyaro0NM5Awx8b5c627</td>\n",
       "      <td>spotify:track:4Musyaro0NM5Awx8b5c627</td>\n",
       "      <td>https://api.spotify.com/v1/tracks/4Musyaro0NM5...</td>\n",
       "      <td>https://api.spotify.com/v1/audio-analysis/4Mus...</td>\n",
       "      <td>241467</td>\n",
       "      <td>4</td>\n",
       "    </tr>\n",
       "    <tr>\n",
       "      <th>4</th>\n",
       "      <td>0.729</td>\n",
       "      <td>0.756</td>\n",
       "      <td>8</td>\n",
       "      <td>-5.119</td>\n",
       "      <td>1</td>\n",
       "      <td>0.0294</td>\n",
       "      <td>0.1310</td>\n",
       "      <td>0.000000</td>\n",
       "      <td>0.0527</td>\n",
       "      <td>0.522</td>\n",
       "      <td>104.945</td>\n",
       "      <td>audio_features</td>\n",
       "      <td>1CkvWZme3pRgbzaxZnTl5X</td>\n",
       "      <td>spotify:track:1CkvWZme3pRgbzaxZnTl5X</td>\n",
       "      <td>https://api.spotify.com/v1/tracks/1CkvWZme3pRg...</td>\n",
       "      <td>https://api.spotify.com/v1/audio-analysis/1Ckv...</td>\n",
       "      <td>228293</td>\n",
       "      <td>4</td>\n",
       "    </tr>\n",
       "  </tbody>\n",
       "</table>\n",
       "</div>"
      ],
      "text/plain": [
       "   danceability  energy  key  loudness  mode  speechiness  acousticness  \\\n",
       "0         0.638   0.826    8    -4.968     1       0.0479        0.1390   \n",
       "1         0.397   0.817    2    -5.495     1       0.0420        0.0966   \n",
       "2         0.384   0.527   11    -5.294     0       0.0269        0.5420   \n",
       "3         0.609   0.629   10    -5.024     1       0.0264        0.4250   \n",
       "4         0.729   0.756    8    -5.119     1       0.0294        0.1310   \n",
       "\n",
       "   instrumentalness  liveness  valence    tempo            type  \\\n",
       "0          0.000000    0.0803    0.649  124.072  audio_features   \n",
       "1          0.000008    0.3160    0.416  158.004  audio_features   \n",
       "2          0.000000    0.1560    0.222  100.730  audio_features   \n",
       "3          0.000000    0.0978    0.325   99.955  audio_features   \n",
       "4          0.000000    0.0527    0.522  104.945  audio_features   \n",
       "\n",
       "                       id                                   uri  \\\n",
       "0  4lCv7b86sLynZbXhfScfm2  spotify:track:4lCv7b86sLynZbXhfScfm2   \n",
       "1  1Jx69b09LKTuBQxkEiFfVX  spotify:track:1Jx69b09LKTuBQxkEiFfVX   \n",
       "2  4u83mwF5tUuWlXS86UOXdu  spotify:track:4u83mwF5tUuWlXS86UOXdu   \n",
       "3  4Musyaro0NM5Awx8b5c627  spotify:track:4Musyaro0NM5Awx8b5c627   \n",
       "4  1CkvWZme3pRgbzaxZnTl5X  spotify:track:1CkvWZme3pRgbzaxZnTl5X   \n",
       "\n",
       "                                          track_href  \\\n",
       "0  https://api.spotify.com/v1/tracks/4lCv7b86sLyn...   \n",
       "1  https://api.spotify.com/v1/tracks/1Jx69b09LKTu...   \n",
       "2  https://api.spotify.com/v1/tracks/4u83mwF5tUuW...   \n",
       "3  https://api.spotify.com/v1/tracks/4Musyaro0NM5...   \n",
       "4  https://api.spotify.com/v1/tracks/1CkvWZme3pRg...   \n",
       "\n",
       "                                        analysis_url  duration_ms  \\\n",
       "0  https://api.spotify.com/v1/audio-analysis/4lCv...       227880   \n",
       "1  https://api.spotify.com/v1/audio-analysis/1Jx6...       266227   \n",
       "2  https://api.spotify.com/v1/audio-analysis/4u83...       221200   \n",
       "3  https://api.spotify.com/v1/audio-analysis/4Mus...       241467   \n",
       "4  https://api.spotify.com/v1/audio-analysis/1Ckv...       228293   \n",
       "\n",
       "   time_signature  \n",
       "0               4  \n",
       "1               4  \n",
       "2               3  \n",
       "3               4  \n",
       "4               4  "
      ]
     },
     "execution_count": 4,
     "metadata": {},
     "output_type": "execute_result"
    }
   ],
   "source": [
    "#Explore first 5 rows of audio dataset \n",
    "audio.head()"
   ]
  },
  {
   "cell_type": "code",
   "execution_count": 5,
   "metadata": {},
   "outputs": [],
   "source": [
    "#Rename audio's 'id' column to 'track_id'\n",
    "audio = audio.rename({'id': 'track_id'}, axis=1) "
   ]
  },
  {
   "cell_type": "code",
   "execution_count": 6,
   "metadata": {},
   "outputs": [
    {
     "data": {
      "text/html": [
       "<div>\n",
       "<style scoped>\n",
       "    .dataframe tbody tr th:only-of-type {\n",
       "        vertical-align: middle;\n",
       "    }\n",
       "\n",
       "    .dataframe tbody tr th {\n",
       "        vertical-align: top;\n",
       "    }\n",
       "\n",
       "    .dataframe thead th {\n",
       "        text-align: right;\n",
       "    }\n",
       "</style>\n",
       "<table border=\"1\" class=\"dataframe\">\n",
       "  <thead>\n",
       "    <tr style=\"text-align: right;\">\n",
       "      <th></th>\n",
       "      <th>danceability</th>\n",
       "      <th>energy</th>\n",
       "      <th>key</th>\n",
       "      <th>loudness</th>\n",
       "      <th>mode</th>\n",
       "      <th>speechiness</th>\n",
       "      <th>acousticness</th>\n",
       "      <th>instrumentalness</th>\n",
       "      <th>liveness</th>\n",
       "      <th>valence</th>\n",
       "      <th>tempo</th>\n",
       "      <th>type</th>\n",
       "      <th>track_id</th>\n",
       "      <th>uri</th>\n",
       "      <th>track_href</th>\n",
       "      <th>analysis_url</th>\n",
       "      <th>duration_ms</th>\n",
       "      <th>time_signature</th>\n",
       "    </tr>\n",
       "  </thead>\n",
       "  <tbody>\n",
       "    <tr>\n",
       "      <th>0</th>\n",
       "      <td>0.638</td>\n",
       "      <td>0.826</td>\n",
       "      <td>8</td>\n",
       "      <td>-4.968</td>\n",
       "      <td>1</td>\n",
       "      <td>0.0479</td>\n",
       "      <td>0.1390</td>\n",
       "      <td>0.000000</td>\n",
       "      <td>0.0803</td>\n",
       "      <td>0.649</td>\n",
       "      <td>124.072</td>\n",
       "      <td>audio_features</td>\n",
       "      <td>4lCv7b86sLynZbXhfScfm2</td>\n",
       "      <td>spotify:track:4lCv7b86sLynZbXhfScfm2</td>\n",
       "      <td>https://api.spotify.com/v1/tracks/4lCv7b86sLyn...</td>\n",
       "      <td>https://api.spotify.com/v1/audio-analysis/4lCv...</td>\n",
       "      <td>227880</td>\n",
       "      <td>4</td>\n",
       "    </tr>\n",
       "    <tr>\n",
       "      <th>1</th>\n",
       "      <td>0.397</td>\n",
       "      <td>0.817</td>\n",
       "      <td>2</td>\n",
       "      <td>-5.495</td>\n",
       "      <td>1</td>\n",
       "      <td>0.0420</td>\n",
       "      <td>0.0966</td>\n",
       "      <td>0.000008</td>\n",
       "      <td>0.3160</td>\n",
       "      <td>0.416</td>\n",
       "      <td>158.004</td>\n",
       "      <td>audio_features</td>\n",
       "      <td>1Jx69b09LKTuBQxkEiFfVX</td>\n",
       "      <td>spotify:track:1Jx69b09LKTuBQxkEiFfVX</td>\n",
       "      <td>https://api.spotify.com/v1/tracks/1Jx69b09LKTu...</td>\n",
       "      <td>https://api.spotify.com/v1/audio-analysis/1Jx6...</td>\n",
       "      <td>266227</td>\n",
       "      <td>4</td>\n",
       "    </tr>\n",
       "    <tr>\n",
       "      <th>2</th>\n",
       "      <td>0.384</td>\n",
       "      <td>0.527</td>\n",
       "      <td>11</td>\n",
       "      <td>-5.294</td>\n",
       "      <td>0</td>\n",
       "      <td>0.0269</td>\n",
       "      <td>0.5420</td>\n",
       "      <td>0.000000</td>\n",
       "      <td>0.1560</td>\n",
       "      <td>0.222</td>\n",
       "      <td>100.730</td>\n",
       "      <td>audio_features</td>\n",
       "      <td>4u83mwF5tUuWlXS86UOXdu</td>\n",
       "      <td>spotify:track:4u83mwF5tUuWlXS86UOXdu</td>\n",
       "      <td>https://api.spotify.com/v1/tracks/4u83mwF5tUuW...</td>\n",
       "      <td>https://api.spotify.com/v1/audio-analysis/4u83...</td>\n",
       "      <td>221200</td>\n",
       "      <td>3</td>\n",
       "    </tr>\n",
       "    <tr>\n",
       "      <th>3</th>\n",
       "      <td>0.609</td>\n",
       "      <td>0.629</td>\n",
       "      <td>10</td>\n",
       "      <td>-5.024</td>\n",
       "      <td>1</td>\n",
       "      <td>0.0264</td>\n",
       "      <td>0.4250</td>\n",
       "      <td>0.000000</td>\n",
       "      <td>0.0978</td>\n",
       "      <td>0.325</td>\n",
       "      <td>99.955</td>\n",
       "      <td>audio_features</td>\n",
       "      <td>4Musyaro0NM5Awx8b5c627</td>\n",
       "      <td>spotify:track:4Musyaro0NM5Awx8b5c627</td>\n",
       "      <td>https://api.spotify.com/v1/tracks/4Musyaro0NM5...</td>\n",
       "      <td>https://api.spotify.com/v1/audio-analysis/4Mus...</td>\n",
       "      <td>241467</td>\n",
       "      <td>4</td>\n",
       "    </tr>\n",
       "    <tr>\n",
       "      <th>4</th>\n",
       "      <td>0.729</td>\n",
       "      <td>0.756</td>\n",
       "      <td>8</td>\n",
       "      <td>-5.119</td>\n",
       "      <td>1</td>\n",
       "      <td>0.0294</td>\n",
       "      <td>0.1310</td>\n",
       "      <td>0.000000</td>\n",
       "      <td>0.0527</td>\n",
       "      <td>0.522</td>\n",
       "      <td>104.945</td>\n",
       "      <td>audio_features</td>\n",
       "      <td>1CkvWZme3pRgbzaxZnTl5X</td>\n",
       "      <td>spotify:track:1CkvWZme3pRgbzaxZnTl5X</td>\n",
       "      <td>https://api.spotify.com/v1/tracks/1CkvWZme3pRg...</td>\n",
       "      <td>https://api.spotify.com/v1/audio-analysis/1Ckv...</td>\n",
       "      <td>228293</td>\n",
       "      <td>4</td>\n",
       "    </tr>\n",
       "  </tbody>\n",
       "</table>\n",
       "</div>"
      ],
      "text/plain": [
       "   danceability  energy  key  loudness  mode  speechiness  acousticness  \\\n",
       "0         0.638   0.826    8    -4.968     1       0.0479        0.1390   \n",
       "1         0.397   0.817    2    -5.495     1       0.0420        0.0966   \n",
       "2         0.384   0.527   11    -5.294     0       0.0269        0.5420   \n",
       "3         0.609   0.629   10    -5.024     1       0.0264        0.4250   \n",
       "4         0.729   0.756    8    -5.119     1       0.0294        0.1310   \n",
       "\n",
       "   instrumentalness  liveness  valence    tempo            type  \\\n",
       "0          0.000000    0.0803    0.649  124.072  audio_features   \n",
       "1          0.000008    0.3160    0.416  158.004  audio_features   \n",
       "2          0.000000    0.1560    0.222  100.730  audio_features   \n",
       "3          0.000000    0.0978    0.325   99.955  audio_features   \n",
       "4          0.000000    0.0527    0.522  104.945  audio_features   \n",
       "\n",
       "                 track_id                                   uri  \\\n",
       "0  4lCv7b86sLynZbXhfScfm2  spotify:track:4lCv7b86sLynZbXhfScfm2   \n",
       "1  1Jx69b09LKTuBQxkEiFfVX  spotify:track:1Jx69b09LKTuBQxkEiFfVX   \n",
       "2  4u83mwF5tUuWlXS86UOXdu  spotify:track:4u83mwF5tUuWlXS86UOXdu   \n",
       "3  4Musyaro0NM5Awx8b5c627  spotify:track:4Musyaro0NM5Awx8b5c627   \n",
       "4  1CkvWZme3pRgbzaxZnTl5X  spotify:track:1CkvWZme3pRgbzaxZnTl5X   \n",
       "\n",
       "                                          track_href  \\\n",
       "0  https://api.spotify.com/v1/tracks/4lCv7b86sLyn...   \n",
       "1  https://api.spotify.com/v1/tracks/1Jx69b09LKTu...   \n",
       "2  https://api.spotify.com/v1/tracks/4u83mwF5tUuW...   \n",
       "3  https://api.spotify.com/v1/tracks/4Musyaro0NM5...   \n",
       "4  https://api.spotify.com/v1/tracks/1CkvWZme3pRg...   \n",
       "\n",
       "                                        analysis_url  duration_ms  \\\n",
       "0  https://api.spotify.com/v1/audio-analysis/4lCv...       227880   \n",
       "1  https://api.spotify.com/v1/audio-analysis/1Jx6...       266227   \n",
       "2  https://api.spotify.com/v1/audio-analysis/4u83...       221200   \n",
       "3  https://api.spotify.com/v1/audio-analysis/4Mus...       241467   \n",
       "4  https://api.spotify.com/v1/audio-analysis/1Ckv...       228293   \n",
       "\n",
       "   time_signature  \n",
       "0               4  \n",
       "1               4  \n",
       "2               3  \n",
       "3               4  \n",
       "4               4  "
      ]
     },
     "execution_count": 6,
     "metadata": {},
     "output_type": "execute_result"
    }
   ],
   "source": [
    "audio.head()"
   ]
  },
  {
   "cell_type": "code",
   "execution_count": 7,
   "metadata": {},
   "outputs": [],
   "source": [
    "#Merge playlist and audio dataframes for easier reference.\n",
    "df = pd.merge(playlist, audio, on='track_id', how='inner')"
   ]
  },
  {
   "cell_type": "code",
   "execution_count": 8,
   "metadata": {},
   "outputs": [
    {
     "data": {
      "text/html": [
       "<div>\n",
       "<style scoped>\n",
       "    .dataframe tbody tr th:only-of-type {\n",
       "        vertical-align: middle;\n",
       "    }\n",
       "\n",
       "    .dataframe tbody tr th {\n",
       "        vertical-align: top;\n",
       "    }\n",
       "\n",
       "    .dataframe thead th {\n",
       "        text-align: right;\n",
       "    }\n",
       "</style>\n",
       "<table border=\"1\" class=\"dataframe\">\n",
       "  <thead>\n",
       "    <tr style=\"text-align: right;\">\n",
       "      <th></th>\n",
       "      <th>artist</th>\n",
       "      <th>artist_id</th>\n",
       "      <th>album</th>\n",
       "      <th>track_name</th>\n",
       "      <th>release_date</th>\n",
       "      <th>popularity</th>\n",
       "      <th>is_explicit</th>\n",
       "      <th>track_id</th>\n",
       "      <th>danceability</th>\n",
       "      <th>energy</th>\n",
       "      <th>...</th>\n",
       "      <th>instrumentalness</th>\n",
       "      <th>liveness</th>\n",
       "      <th>valence</th>\n",
       "      <th>tempo</th>\n",
       "      <th>type</th>\n",
       "      <th>uri</th>\n",
       "      <th>track_href</th>\n",
       "      <th>analysis_url</th>\n",
       "      <th>duration_ms</th>\n",
       "      <th>time_signature</th>\n",
       "    </tr>\n",
       "  </thead>\n",
       "  <tbody>\n",
       "    <tr>\n",
       "      <th>0</th>\n",
       "      <td>Katy Perry</td>\n",
       "      <td>6jJ0s89eD6GaHleKKya26X</td>\n",
       "      <td>Katy Perry - Teenage Dream: The Complete Confe...</td>\n",
       "      <td>Firework</td>\n",
       "      <td>2012-03-12</td>\n",
       "      <td>72</td>\n",
       "      <td>False</td>\n",
       "      <td>4lCv7b86sLynZbXhfScfm2</td>\n",
       "      <td>0.638</td>\n",
       "      <td>0.826</td>\n",
       "      <td>...</td>\n",
       "      <td>0.000000</td>\n",
       "      <td>0.0803</td>\n",
       "      <td>0.649</td>\n",
       "      <td>124.072</td>\n",
       "      <td>audio_features</td>\n",
       "      <td>spotify:track:4lCv7b86sLynZbXhfScfm2</td>\n",
       "      <td>https://api.spotify.com/v1/tracks/4lCv7b86sLyn...</td>\n",
       "      <td>https://api.spotify.com/v1/audio-analysis/4lCv...</td>\n",
       "      <td>227880</td>\n",
       "      <td>4</td>\n",
       "    </tr>\n",
       "    <tr>\n",
       "      <th>1</th>\n",
       "      <td>OneRepublic</td>\n",
       "      <td>5Pwc4xIPtQLFEnJriah9YJ</td>\n",
       "      <td>Dreaming Out Loud</td>\n",
       "      <td>All We Are</td>\n",
       "      <td>2007-01-01</td>\n",
       "      <td>39</td>\n",
       "      <td>False</td>\n",
       "      <td>1Jx69b09LKTuBQxkEiFfVX</td>\n",
       "      <td>0.397</td>\n",
       "      <td>0.817</td>\n",
       "      <td>...</td>\n",
       "      <td>0.000008</td>\n",
       "      <td>0.3160</td>\n",
       "      <td>0.416</td>\n",
       "      <td>158.004</td>\n",
       "      <td>audio_features</td>\n",
       "      <td>spotify:track:1Jx69b09LKTuBQxkEiFfVX</td>\n",
       "      <td>https://api.spotify.com/v1/tracks/1Jx69b09LKTu...</td>\n",
       "      <td>https://api.spotify.com/v1/audio-analysis/1Jx6...</td>\n",
       "      <td>266227</td>\n",
       "      <td>4</td>\n",
       "    </tr>\n",
       "    <tr>\n",
       "      <th>2</th>\n",
       "      <td>Amy Winehouse</td>\n",
       "      <td>6Q192DXotxtaysaqNPy5yR</td>\n",
       "      <td>Back To Black</td>\n",
       "      <td>Wake Up Alone</td>\n",
       "      <td>2006-01-01</td>\n",
       "      <td>0</td>\n",
       "      <td>False</td>\n",
       "      <td>4u83mwF5tUuWlXS86UOXdu</td>\n",
       "      <td>0.384</td>\n",
       "      <td>0.527</td>\n",
       "      <td>...</td>\n",
       "      <td>0.000000</td>\n",
       "      <td>0.1560</td>\n",
       "      <td>0.222</td>\n",
       "      <td>100.730</td>\n",
       "      <td>audio_features</td>\n",
       "      <td>spotify:track:4u83mwF5tUuWlXS86UOXdu</td>\n",
       "      <td>https://api.spotify.com/v1/tracks/4u83mwF5tUuW...</td>\n",
       "      <td>https://api.spotify.com/v1/audio-analysis/4u83...</td>\n",
       "      <td>221200</td>\n",
       "      <td>3</td>\n",
       "    </tr>\n",
       "    <tr>\n",
       "      <th>3</th>\n",
       "      <td>The Script</td>\n",
       "      <td>3AQRLZ9PuTAozP28Skbq8V</td>\n",
       "      <td>The Script</td>\n",
       "      <td>The Man Who Can't Be Moved</td>\n",
       "      <td>2008-09-08</td>\n",
       "      <td>57</td>\n",
       "      <td>False</td>\n",
       "      <td>4Musyaro0NM5Awx8b5c627</td>\n",
       "      <td>0.609</td>\n",
       "      <td>0.629</td>\n",
       "      <td>...</td>\n",
       "      <td>0.000000</td>\n",
       "      <td>0.0978</td>\n",
       "      <td>0.325</td>\n",
       "      <td>99.955</td>\n",
       "      <td>audio_features</td>\n",
       "      <td>spotify:track:4Musyaro0NM5Awx8b5c627</td>\n",
       "      <td>https://api.spotify.com/v1/tracks/4Musyaro0NM5...</td>\n",
       "      <td>https://api.spotify.com/v1/audio-analysis/4Mus...</td>\n",
       "      <td>241467</td>\n",
       "      <td>4</td>\n",
       "    </tr>\n",
       "    <tr>\n",
       "      <th>4</th>\n",
       "      <td>Adele</td>\n",
       "      <td>4dpARuHxo51G3z768sgnrY</td>\n",
       "      <td>21</td>\n",
       "      <td>Rolling in the Deep</td>\n",
       "      <td>2011-01-19</td>\n",
       "      <td>55</td>\n",
       "      <td>False</td>\n",
       "      <td>1CkvWZme3pRgbzaxZnTl5X</td>\n",
       "      <td>0.729</td>\n",
       "      <td>0.756</td>\n",
       "      <td>...</td>\n",
       "      <td>0.000000</td>\n",
       "      <td>0.0527</td>\n",
       "      <td>0.522</td>\n",
       "      <td>104.945</td>\n",
       "      <td>audio_features</td>\n",
       "      <td>spotify:track:1CkvWZme3pRgbzaxZnTl5X</td>\n",
       "      <td>https://api.spotify.com/v1/tracks/1CkvWZme3pRg...</td>\n",
       "      <td>https://api.spotify.com/v1/audio-analysis/1Ckv...</td>\n",
       "      <td>228293</td>\n",
       "      <td>4</td>\n",
       "    </tr>\n",
       "  </tbody>\n",
       "</table>\n",
       "<p>5 rows × 25 columns</p>\n",
       "</div>"
      ],
      "text/plain": [
       "          artist               artist_id  \\\n",
       "0     Katy Perry  6jJ0s89eD6GaHleKKya26X   \n",
       "1    OneRepublic  5Pwc4xIPtQLFEnJriah9YJ   \n",
       "2  Amy Winehouse  6Q192DXotxtaysaqNPy5yR   \n",
       "3     The Script  3AQRLZ9PuTAozP28Skbq8V   \n",
       "4          Adele  4dpARuHxo51G3z768sgnrY   \n",
       "\n",
       "                                               album  \\\n",
       "0  Katy Perry - Teenage Dream: The Complete Confe...   \n",
       "1                                  Dreaming Out Loud   \n",
       "2                                      Back To Black   \n",
       "3                                         The Script   \n",
       "4                                                 21   \n",
       "\n",
       "                   track_name release_date  popularity  is_explicit  \\\n",
       "0                    Firework   2012-03-12          72        False   \n",
       "1                  All We Are   2007-01-01          39        False   \n",
       "2               Wake Up Alone   2006-01-01           0        False   \n",
       "3  The Man Who Can't Be Moved   2008-09-08          57        False   \n",
       "4         Rolling in the Deep   2011-01-19          55        False   \n",
       "\n",
       "                 track_id  danceability  energy  ...  instrumentalness  \\\n",
       "0  4lCv7b86sLynZbXhfScfm2         0.638   0.826  ...          0.000000   \n",
       "1  1Jx69b09LKTuBQxkEiFfVX         0.397   0.817  ...          0.000008   \n",
       "2  4u83mwF5tUuWlXS86UOXdu         0.384   0.527  ...          0.000000   \n",
       "3  4Musyaro0NM5Awx8b5c627         0.609   0.629  ...          0.000000   \n",
       "4  1CkvWZme3pRgbzaxZnTl5X         0.729   0.756  ...          0.000000   \n",
       "\n",
       "   liveness  valence    tempo            type  \\\n",
       "0    0.0803    0.649  124.072  audio_features   \n",
       "1    0.3160    0.416  158.004  audio_features   \n",
       "2    0.1560    0.222  100.730  audio_features   \n",
       "3    0.0978    0.325   99.955  audio_features   \n",
       "4    0.0527    0.522  104.945  audio_features   \n",
       "\n",
       "                                    uri  \\\n",
       "0  spotify:track:4lCv7b86sLynZbXhfScfm2   \n",
       "1  spotify:track:1Jx69b09LKTuBQxkEiFfVX   \n",
       "2  spotify:track:4u83mwF5tUuWlXS86UOXdu   \n",
       "3  spotify:track:4Musyaro0NM5Awx8b5c627   \n",
       "4  spotify:track:1CkvWZme3pRgbzaxZnTl5X   \n",
       "\n",
       "                                          track_href  \\\n",
       "0  https://api.spotify.com/v1/tracks/4lCv7b86sLyn...   \n",
       "1  https://api.spotify.com/v1/tracks/1Jx69b09LKTu...   \n",
       "2  https://api.spotify.com/v1/tracks/4u83mwF5tUuW...   \n",
       "3  https://api.spotify.com/v1/tracks/4Musyaro0NM5...   \n",
       "4  https://api.spotify.com/v1/tracks/1CkvWZme3pRg...   \n",
       "\n",
       "                                        analysis_url  duration_ms  \\\n",
       "0  https://api.spotify.com/v1/audio-analysis/4lCv...       227880   \n",
       "1  https://api.spotify.com/v1/audio-analysis/1Jx6...       266227   \n",
       "2  https://api.spotify.com/v1/audio-analysis/4u83...       221200   \n",
       "3  https://api.spotify.com/v1/audio-analysis/4Mus...       241467   \n",
       "4  https://api.spotify.com/v1/audio-analysis/1Ckv...       228293   \n",
       "\n",
       "  time_signature  \n",
       "0              4  \n",
       "1              4  \n",
       "2              3  \n",
       "3              4  \n",
       "4              4  \n",
       "\n",
       "[5 rows x 25 columns]"
      ]
     },
     "execution_count": 8,
     "metadata": {},
     "output_type": "execute_result"
    }
   ],
   "source": [
    "#Explore new dataframe \n",
    "df.head()"
   ]
  },
  {
   "cell_type": "code",
   "execution_count": 9,
   "metadata": {
    "scrolled": true
   },
   "outputs": [
    {
     "data": {
      "text/plain": [
       "(10003, 25)"
      ]
     },
     "execution_count": 9,
     "metadata": {},
     "output_type": "execute_result"
    }
   ],
   "source": [
    "#Look at the shape of the dataset \n",
    "df.shape"
   ]
  },
  {
   "cell_type": "code",
   "execution_count": 10,
   "metadata": {},
   "outputs": [
    {
     "name": "stdout",
     "output_type": "stream",
     "text": [
      "<class 'pandas.core.frame.DataFrame'>\n",
      "Int64Index: 10003 entries, 0 to 10002\n",
      "Data columns (total 25 columns):\n",
      "artist              10003 non-null object\n",
      "artist_id           10003 non-null object\n",
      "album               10003 non-null object\n",
      "track_name          10003 non-null object\n",
      "release_date        10003 non-null object\n",
      "popularity          10003 non-null int64\n",
      "is_explicit         10003 non-null bool\n",
      "track_id            10003 non-null object\n",
      "danceability        10003 non-null float64\n",
      "energy              10003 non-null float64\n",
      "key                 10003 non-null int64\n",
      "loudness            10003 non-null float64\n",
      "mode                10003 non-null int64\n",
      "speechiness         10003 non-null float64\n",
      "acousticness        10003 non-null float64\n",
      "instrumentalness    10003 non-null float64\n",
      "liveness            10003 non-null float64\n",
      "valence             10003 non-null float64\n",
      "tempo               10003 non-null float64\n",
      "type                10003 non-null object\n",
      "uri                 10003 non-null object\n",
      "track_href          10003 non-null object\n",
      "analysis_url        10003 non-null object\n",
      "duration_ms         10003 non-null int64\n",
      "time_signature      10003 non-null int64\n",
      "dtypes: bool(1), float64(9), int64(5), object(10)\n",
      "memory usage: 1.9+ MB\n"
     ]
    }
   ],
   "source": [
    "df.info()"
   ]
  },
  {
   "cell_type": "code",
   "execution_count": 11,
   "metadata": {},
   "outputs": [],
   "source": [
    "#Turn release_date into a Datetime object \n",
    "df['release_date'] = pd.to_datetime(df['release_date'], format='%Y/%m/%d')"
   ]
  },
  {
   "cell_type": "code",
   "execution_count": 12,
   "metadata": {},
   "outputs": [
    {
     "data": {
      "text/plain": [
       "False    9000\n",
       "True     1003\n",
       "Name: is_explicit, dtype: int64"
      ]
     },
     "execution_count": 12,
     "metadata": {},
     "output_type": "execute_result"
    }
   ],
   "source": [
    "#Print the value counts of the 'is_explicit' variable \n",
    "df['is_explicit'].value_counts()"
   ]
  },
  {
   "cell_type": "code",
   "execution_count": 13,
   "metadata": {},
   "outputs": [],
   "source": [
    "#Convert \"is_explicit\" to a variable that is equal to 1 if True, 0 if False\n",
    "df['is_explicit'] = df['is_explicit'].astype(int)"
   ]
  },
  {
   "cell_type": "code",
   "execution_count": 14,
   "metadata": {},
   "outputs": [
    {
     "data": {
      "text/plain": [
       "0    9000\n",
       "1    1003\n",
       "Name: is_explicit, dtype: int64"
      ]
     },
     "execution_count": 14,
     "metadata": {},
     "output_type": "execute_result"
    }
   ],
   "source": [
    "#Print the value counts to ensure they are the same as before \n",
    "df['is_explicit'].value_counts()"
   ]
  },
  {
   "cell_type": "code",
   "execution_count": 15,
   "metadata": {},
   "outputs": [],
   "source": [
    "#Drop unncessary columns \n",
    "df = df.drop(['type', 'uri', 'analysis_url', 'time_signature', 'track_href'], axis=1)"
   ]
  },
  {
   "cell_type": "code",
   "execution_count": 16,
   "metadata": {},
   "outputs": [
    {
     "data": {
      "text/plain": [
       "0     2953\n",
       "44     157\n",
       "42     155\n",
       "43     150\n",
       "45     145\n",
       "      ... \n",
       "82      10\n",
       "83       4\n",
       "84       3\n",
       "85       3\n",
       "86       1\n",
       "Name: popularity, Length: 87, dtype: int64"
      ]
     },
     "execution_count": 16,
     "metadata": {},
     "output_type": "execute_result"
    }
   ],
   "source": [
    "#Explore the value counts of popularity \n",
    "df['popularity'].value_counts()"
   ]
  },
  {
   "cell_type": "markdown",
   "metadata": {},
   "source": [
    "We see many songs that have a popularity of 0 which either means a) the popularity is not known or b) the song is quite old (according to the Spotify API documentation, popularity is indicated by play counts, and older songs may be played less). Therefore, these songs could skew our popularity results as they influence the scale of our popularity variable."
   ]
  },
  {
   "cell_type": "code",
   "execution_count": 17,
   "metadata": {},
   "outputs": [],
   "source": [
    "#Remove any popularity values that are equal to 0\n",
    "df['popularity'] = df['popularity'][df['popularity'] != 0]"
   ]
  },
  {
   "cell_type": "code",
   "execution_count": 18,
   "metadata": {},
   "outputs": [
    {
     "data": {
      "text/plain": [
       "artist                 0\n",
       "artist_id              0\n",
       "album                  0\n",
       "track_name             0\n",
       "release_date           0\n",
       "popularity          2953\n",
       "is_explicit            0\n",
       "track_id               0\n",
       "danceability           0\n",
       "energy                 0\n",
       "key                    0\n",
       "loudness               0\n",
       "mode                   0\n",
       "speechiness            0\n",
       "acousticness           0\n",
       "instrumentalness       0\n",
       "liveness               0\n",
       "valence                0\n",
       "tempo                  0\n",
       "duration_ms            0\n",
       "dtype: int64"
      ]
     },
     "execution_count": 18,
     "metadata": {},
     "output_type": "execute_result"
    }
   ],
   "source": [
    "#Check for NA values \n",
    "df.isna().sum()"
   ]
  },
  {
   "cell_type": "code",
   "execution_count": 19,
   "metadata": {},
   "outputs": [],
   "source": [
    "#Drop NA values \n",
    "df.dropna(inplace=True)"
   ]
  },
  {
   "cell_type": "code",
   "execution_count": 20,
   "metadata": {
    "scrolled": true
   },
   "outputs": [
    {
     "data": {
      "text/plain": [
       "44.0    157\n",
       "42.0    155\n",
       "43.0    150\n",
       "45.0    145\n",
       "41.0    145\n",
       "       ... \n",
       "82.0     10\n",
       "83.0      4\n",
       "85.0      3\n",
       "84.0      3\n",
       "86.0      1\n",
       "Name: popularity, Length: 86, dtype: int64"
      ]
     },
     "execution_count": 20,
     "metadata": {},
     "output_type": "execute_result"
    }
   ],
   "source": [
    "#Check the value counts again\n",
    "df['popularity'].value_counts()"
   ]
  },
  {
   "cell_type": "code",
   "execution_count": 21,
   "metadata": {},
   "outputs": [
    {
     "data": {
      "text/plain": [
       "count    7050.000000\n",
       "mean       43.071489\n",
       "std        18.451087\n",
       "min         1.000000\n",
       "25%        31.000000\n",
       "50%        44.000000\n",
       "75%        57.000000\n",
       "max        86.000000\n",
       "Name: popularity, dtype: float64"
      ]
     },
     "execution_count": 21,
     "metadata": {},
     "output_type": "execute_result"
    }
   ],
   "source": [
    "#Look at the. describe function to determine the distribution of the ratings \n",
    "df['popularity'].describe()"
   ]
  },
  {
   "cell_type": "code",
   "execution_count": 22,
   "metadata": {},
   "outputs": [
    {
     "data": {
      "text/html": [
       "<div>\n",
       "<style scoped>\n",
       "    .dataframe tbody tr th:only-of-type {\n",
       "        vertical-align: middle;\n",
       "    }\n",
       "\n",
       "    .dataframe tbody tr th {\n",
       "        vertical-align: top;\n",
       "    }\n",
       "\n",
       "    .dataframe thead th {\n",
       "        text-align: right;\n",
       "    }\n",
       "</style>\n",
       "<table border=\"1\" class=\"dataframe\">\n",
       "  <thead>\n",
       "    <tr style=\"text-align: right;\">\n",
       "      <th></th>\n",
       "      <th>artist</th>\n",
       "      <th>artist_id</th>\n",
       "      <th>album</th>\n",
       "      <th>track_name</th>\n",
       "      <th>release_date</th>\n",
       "      <th>popularity</th>\n",
       "      <th>is_explicit</th>\n",
       "      <th>track_id</th>\n",
       "      <th>danceability</th>\n",
       "      <th>energy</th>\n",
       "      <th>key</th>\n",
       "      <th>loudness</th>\n",
       "      <th>mode</th>\n",
       "      <th>speechiness</th>\n",
       "      <th>acousticness</th>\n",
       "      <th>instrumentalness</th>\n",
       "      <th>liveness</th>\n",
       "      <th>valence</th>\n",
       "      <th>tempo</th>\n",
       "      <th>duration_ms</th>\n",
       "    </tr>\n",
       "  </thead>\n",
       "  <tbody>\n",
       "    <tr>\n",
       "      <th>0</th>\n",
       "      <td>Katy Perry</td>\n",
       "      <td>6jJ0s89eD6GaHleKKya26X</td>\n",
       "      <td>Katy Perry - Teenage Dream: The Complete Confe...</td>\n",
       "      <td>Firework</td>\n",
       "      <td>2012-03-12</td>\n",
       "      <td>72.0</td>\n",
       "      <td>0</td>\n",
       "      <td>4lCv7b86sLynZbXhfScfm2</td>\n",
       "      <td>0.638</td>\n",
       "      <td>0.826</td>\n",
       "      <td>8</td>\n",
       "      <td>-4.968</td>\n",
       "      <td>1</td>\n",
       "      <td>0.0479</td>\n",
       "      <td>0.1390</td>\n",
       "      <td>0.000000</td>\n",
       "      <td>0.0803</td>\n",
       "      <td>0.649</td>\n",
       "      <td>124.072</td>\n",
       "      <td>227880</td>\n",
       "    </tr>\n",
       "    <tr>\n",
       "      <th>1</th>\n",
       "      <td>OneRepublic</td>\n",
       "      <td>5Pwc4xIPtQLFEnJriah9YJ</td>\n",
       "      <td>Dreaming Out Loud</td>\n",
       "      <td>All We Are</td>\n",
       "      <td>2007-01-01</td>\n",
       "      <td>39.0</td>\n",
       "      <td>0</td>\n",
       "      <td>1Jx69b09LKTuBQxkEiFfVX</td>\n",
       "      <td>0.397</td>\n",
       "      <td>0.817</td>\n",
       "      <td>2</td>\n",
       "      <td>-5.495</td>\n",
       "      <td>1</td>\n",
       "      <td>0.0420</td>\n",
       "      <td>0.0966</td>\n",
       "      <td>0.000008</td>\n",
       "      <td>0.3160</td>\n",
       "      <td>0.416</td>\n",
       "      <td>158.004</td>\n",
       "      <td>266227</td>\n",
       "    </tr>\n",
       "    <tr>\n",
       "      <th>3</th>\n",
       "      <td>The Script</td>\n",
       "      <td>3AQRLZ9PuTAozP28Skbq8V</td>\n",
       "      <td>The Script</td>\n",
       "      <td>The Man Who Can't Be Moved</td>\n",
       "      <td>2008-09-08</td>\n",
       "      <td>57.0</td>\n",
       "      <td>0</td>\n",
       "      <td>4Musyaro0NM5Awx8b5c627</td>\n",
       "      <td>0.609</td>\n",
       "      <td>0.629</td>\n",
       "      <td>10</td>\n",
       "      <td>-5.024</td>\n",
       "      <td>1</td>\n",
       "      <td>0.0264</td>\n",
       "      <td>0.4250</td>\n",
       "      <td>0.000000</td>\n",
       "      <td>0.0978</td>\n",
       "      <td>0.325</td>\n",
       "      <td>99.955</td>\n",
       "      <td>241467</td>\n",
       "    </tr>\n",
       "    <tr>\n",
       "      <th>4</th>\n",
       "      <td>Adele</td>\n",
       "      <td>4dpARuHxo51G3z768sgnrY</td>\n",
       "      <td>21</td>\n",
       "      <td>Rolling in the Deep</td>\n",
       "      <td>2011-01-19</td>\n",
       "      <td>55.0</td>\n",
       "      <td>0</td>\n",
       "      <td>1CkvWZme3pRgbzaxZnTl5X</td>\n",
       "      <td>0.729</td>\n",
       "      <td>0.756</td>\n",
       "      <td>8</td>\n",
       "      <td>-5.119</td>\n",
       "      <td>1</td>\n",
       "      <td>0.0294</td>\n",
       "      <td>0.1310</td>\n",
       "      <td>0.000000</td>\n",
       "      <td>0.0527</td>\n",
       "      <td>0.522</td>\n",
       "      <td>104.945</td>\n",
       "      <td>228293</td>\n",
       "    </tr>\n",
       "    <tr>\n",
       "      <th>5</th>\n",
       "      <td>Bruno Mars</td>\n",
       "      <td>0du5cEVh5yTK9QJze8zA0C</td>\n",
       "      <td>Doo-Wops &amp; Hooligans</td>\n",
       "      <td>Grenade</td>\n",
       "      <td>2010-10-05</td>\n",
       "      <td>75.0</td>\n",
       "      <td>0</td>\n",
       "      <td>4lLtanYk6tkMvooU0tWzG8</td>\n",
       "      <td>0.706</td>\n",
       "      <td>0.558</td>\n",
       "      <td>2</td>\n",
       "      <td>-7.237</td>\n",
       "      <td>0</td>\n",
       "      <td>0.0593</td>\n",
       "      <td>0.1460</td>\n",
       "      <td>0.000000</td>\n",
       "      <td>0.1180</td>\n",
       "      <td>0.227</td>\n",
       "      <td>110.443</td>\n",
       "      <td>223253</td>\n",
       "    </tr>\n",
       "  </tbody>\n",
       "</table>\n",
       "</div>"
      ],
      "text/plain": [
       "        artist               artist_id  \\\n",
       "0   Katy Perry  6jJ0s89eD6GaHleKKya26X   \n",
       "1  OneRepublic  5Pwc4xIPtQLFEnJriah9YJ   \n",
       "3   The Script  3AQRLZ9PuTAozP28Skbq8V   \n",
       "4        Adele  4dpARuHxo51G3z768sgnrY   \n",
       "5   Bruno Mars  0du5cEVh5yTK9QJze8zA0C   \n",
       "\n",
       "                                               album  \\\n",
       "0  Katy Perry - Teenage Dream: The Complete Confe...   \n",
       "1                                  Dreaming Out Loud   \n",
       "3                                         The Script   \n",
       "4                                                 21   \n",
       "5                               Doo-Wops & Hooligans   \n",
       "\n",
       "                   track_name release_date  popularity  is_explicit  \\\n",
       "0                    Firework   2012-03-12        72.0            0   \n",
       "1                  All We Are   2007-01-01        39.0            0   \n",
       "3  The Man Who Can't Be Moved   2008-09-08        57.0            0   \n",
       "4         Rolling in the Deep   2011-01-19        55.0            0   \n",
       "5                     Grenade   2010-10-05        75.0            0   \n",
       "\n",
       "                 track_id  danceability  energy  key  loudness  mode  \\\n",
       "0  4lCv7b86sLynZbXhfScfm2         0.638   0.826    8    -4.968     1   \n",
       "1  1Jx69b09LKTuBQxkEiFfVX         0.397   0.817    2    -5.495     1   \n",
       "3  4Musyaro0NM5Awx8b5c627         0.609   0.629   10    -5.024     1   \n",
       "4  1CkvWZme3pRgbzaxZnTl5X         0.729   0.756    8    -5.119     1   \n",
       "5  4lLtanYk6tkMvooU0tWzG8         0.706   0.558    2    -7.237     0   \n",
       "\n",
       "   speechiness  acousticness  instrumentalness  liveness  valence    tempo  \\\n",
       "0       0.0479        0.1390          0.000000    0.0803    0.649  124.072   \n",
       "1       0.0420        0.0966          0.000008    0.3160    0.416  158.004   \n",
       "3       0.0264        0.4250          0.000000    0.0978    0.325   99.955   \n",
       "4       0.0294        0.1310          0.000000    0.0527    0.522  104.945   \n",
       "5       0.0593        0.1460          0.000000    0.1180    0.227  110.443   \n",
       "\n",
       "   duration_ms  \n",
       "0       227880  \n",
       "1       266227  \n",
       "3       241467  \n",
       "4       228293  \n",
       "5       223253  "
      ]
     },
     "execution_count": 22,
     "metadata": {},
     "output_type": "execute_result"
    }
   ],
   "source": [
    "df.head()"
   ]
  },
  {
   "cell_type": "code",
   "execution_count": 23,
   "metadata": {},
   "outputs": [
    {
     "data": {
      "image/png": "[encoded data removed]",
      "text/plain": [
       "<Figure size 432x288 with 1 Axes>"
      ]
     },
     "metadata": {
      "needs_background": "light"
     },
     "output_type": "display_data"
    }
   ],
   "source": [
    "#Plot a histogram of the frequency of certain popularity values\n",
    "plt.hist(df['popularity'],bins='auto')\n",
    "plt.xlabel('Value of Popularity')\n",
    "plt.ylabel('Frequency of Popularity')\n",
    "plt.show()"
   ]
  },
  {
   "cell_type": "code",
   "execution_count": 24,
   "metadata": {},
   "outputs": [
    {
     "data": {
      "image/png": "[encoded data removed]",
      "text/plain": [
       "<Figure size 864x432 with 1 Axes>"
      ]
     },
     "metadata": {
      "needs_background": "light"
     },
     "output_type": "display_data"
    }
   ],
   "source": [
    "df['popularity'].plot(kind='kde', figsize = (12,6))\n",
    "plt.show()"
   ]
  },
  {
   "cell_type": "code",
   "execution_count": 25,
   "metadata": {},
   "outputs": [],
   "source": [
    "#Create a binned variable for popularity as a proxy for our ratings\n",
    "df['ratings'] = df['popularity'].apply(lambda x: 1 if x <= 20 \n",
    "                                       else 2 if x>= 21 and x<40 \n",
    "                                       else 3 if x>=40 and x<60\n",
    "                                       else 4 if x>=60 and x<80 \n",
    "                                       else 5)"
   ]
  },
  {
   "cell_type": "code",
   "execution_count": 26,
   "metadata": {},
   "outputs": [
    {
     "data": {
      "image/png": "[encoded data removed]",
      "text/plain": [
       "<Figure size 432x288 with 1 Axes>"
      ]
     },
     "metadata": {
      "needs_background": "light"
     },
     "output_type": "display_data"
    }
   ],
   "source": [
    "#Plot a histogram of the frequency of certain popularity values\n",
    "plt.hist(df['ratings'],bins='auto')\n",
    "plt.xlabel('Value of Popularity')\n",
    "plt.ylabel('Frequency of Popularity')\n",
    "plt.show()"
   ]
  },
  {
   "cell_type": "markdown",
   "metadata": {},
   "source": [
    "## Data Exploration"
   ]
  },
  {
   "cell_type": "code",
   "execution_count": 27,
   "metadata": {
    "scrolled": true
   },
   "outputs": [
    {
     "name": "stderr",
     "output_type": "stream",
     "text": [
      "/Users/adinasteinman/opt/anaconda3/envs/learn-env/lib/python3.6/site-packages/seaborn/_decorators.py:43: FutureWarning: Pass the following variables as keyword args: x, y. From version 0.12, the only valid positional argument will be `data`, and passing other arguments without an explicit keyword will result in an error or misinterpretation.\n",
      "  FutureWarning\n"
     ]
    },
    {
     "data": {
      "image/png": "[encoded data removed]",
      "text/plain": [
       "<Figure size 720x360 with 1 Axes>"
      ]
     },
     "metadata": {
      "needs_background": "light"
     },
     "output_type": "display_data"
    }
   ],
   "source": [
    "#Plot the top 20 highest rated songs using our new 'ratings' proxy \n",
    "plt.figure(figsize=(10,5))\n",
    "topsongs = df.groupby('track_name').mean()['ratings'].sort_values(ascending=False).head(20)\n",
    "sns.barplot(topsongs.index, topsongs.values)\n",
    "plt.title('Top 20 Highest Rated Songs')\n",
    "plt.xticks(rotation=80);"
   ]
  },
  {
   "cell_type": "code",
   "execution_count": 28,
   "metadata": {},
   "outputs": [
    {
     "name": "stderr",
     "output_type": "stream",
     "text": [
      "/Users/adinasteinman/opt/anaconda3/envs/learn-env/lib/python3.6/site-packages/seaborn/_decorators.py:43: FutureWarning: Pass the following variables as keyword args: x, y. From version 0.12, the only valid positional argument will be `data`, and passing other arguments without an explicit keyword will result in an error or misinterpretation.\n",
      "  FutureWarning\n"
     ]
    },
    {
     "data": {
      "image/png": "[encoded data removed]",
      "text/plain": [
       "<Figure size 720x360 with 1 Axes>"
      ]
     },
     "metadata": {
      "needs_background": "light"
     },
     "output_type": "display_data"
    }
   ],
   "source": [
    "#Plot the top 10 highest rated artists \n",
    "plt.figure(figsize=(10,5))\n",
    "topartists = df.groupby('artist').mean()['ratings'].sort_values(ascending=False).head(10)\n",
    "sns.barplot(topartists.index, topartists.values)\n",
    "plt.title('Top 10 Highest Rated Artists')\n",
    "plt.xticks(rotation=80);"
   ]
  },
  {
   "cell_type": "code",
   "execution_count": 30,
   "metadata": {},
   "outputs": [
    {
     "name": "stderr",
     "output_type": "stream",
     "text": [
      "/Users/adinasteinman/opt/anaconda3/envs/learn-env/lib/python3.6/site-packages/seaborn/_decorators.py:43: FutureWarning: Pass the following variables as keyword args: x, y. From version 0.12, the only valid positional argument will be `data`, and passing other arguments without an explicit keyword will result in an error or misinterpretation.\n",
      "  FutureWarning\n"
     ]
    },
    {
     "data": {
      "image/png": "[encoded data removed]",
      "text/plain": [
       "<Figure size 720x360 with 1 Axes>"
      ]
     },
     "metadata": {
      "needs_background": "light"
     },
     "output_type": "display_data"
    }
   ],
   "source": [
    "#Plot the top 10 highest rated albums\n",
    "plt.figure(figsize=(10,5))\n",
    "topalbums = df.groupby('album').mean()['ratings'].sort_values(ascending=False).head(10)\n",
    "sns.barplot(topalbums.index, topalbums.values)\n",
    "plt.title('Top 10 Highest Rated Albums')\n",
    "plt.xticks(rotation=80);"
   ]
  },
  {
   "cell_type": "code",
   "execution_count": null,
   "metadata": {},
   "outputs": [],
   "source": []
  }
 ],
 "metadata": {
  "kernelspec": {
   "display_name": "Python 3",
   "language": "python",
   "name": "python3"
  },
  "language_info": {
   "codemirror_mode": {
    "name": "ipython",
    "version": 3
   },
   "file_extension": ".py",
   "mimetype": "text/x-python",
   "name": "python",
   "nbconvert_exporter": "python",
   "pygments_lexer": "ipython3",
   "version": "3.6.9"
  }
 },
 "nbformat": 4,
 "nbformat_minor": 4
}
