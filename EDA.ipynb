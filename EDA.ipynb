{
 "cells": [
  {
   "cell_type": "code",
   "execution_count": 23,
   "metadata": {},
   "outputs": [],
   "source": [
    "#Import necessary packages\n",
    "import pandas as pd"
   ]
  },
  {
   "cell_type": "code",
   "execution_count": 24,
   "metadata": {},
   "outputs": [],
   "source": [
    "#Import DataFrame\n",
    "df = pd.read_csv('data')\n",
    "df.drop(['Unnamed: 0'], axis=1, inplace=True)"
   ]
  },
  {
   "cell_type": "markdown",
   "metadata": {},
   "source": [
    "### Data Cleaning"
   ]
  },
  {
   "cell_type": "code",
   "execution_count": 4,
   "metadata": {
    "scrolled": true
   },
   "outputs": [
    {
     "data": {
      "text/html": [
       "<div>\n",
       "<style scoped>\n",
       "    .dataframe tbody tr th:only-of-type {\n",
       "        vertical-align: middle;\n",
       "    }\n",
       "\n",
       "    .dataframe tbody tr th {\n",
       "        vertical-align: top;\n",
       "    }\n",
       "\n",
       "    .dataframe thead th {\n",
       "        text-align: right;\n",
       "    }\n",
       "</style>\n",
       "<table border=\"1\" class=\"dataframe\">\n",
       "  <thead>\n",
       "    <tr style=\"text-align: right;\">\n",
       "      <th></th>\n",
       "      <th>artist</th>\n",
       "      <th>album</th>\n",
       "      <th>track_name</th>\n",
       "      <th>release_date</th>\n",
       "      <th>popularity</th>\n",
       "      <th>is_explicit</th>\n",
       "      <th>track_id</th>\n",
       "    </tr>\n",
       "  </thead>\n",
       "  <tbody>\n",
       "    <tr>\n",
       "      <th>0</th>\n",
       "      <td>Katy Perry</td>\n",
       "      <td>Katy Perry - Teenage Dream: The Complete Confe...</td>\n",
       "      <td>Firework</td>\n",
       "      <td>2012-03-12</td>\n",
       "      <td>72</td>\n",
       "      <td>False</td>\n",
       "      <td>4lCv7b86sLynZbXhfScfm2</td>\n",
       "    </tr>\n",
       "    <tr>\n",
       "      <th>1</th>\n",
       "      <td>OneRepublic</td>\n",
       "      <td>Dreaming Out Loud</td>\n",
       "      <td>All We Are</td>\n",
       "      <td>2007-01-01</td>\n",
       "      <td>39</td>\n",
       "      <td>False</td>\n",
       "      <td>1Jx69b09LKTuBQxkEiFfVX</td>\n",
       "    </tr>\n",
       "    <tr>\n",
       "      <th>2</th>\n",
       "      <td>Amy Winehouse</td>\n",
       "      <td>Back To Black</td>\n",
       "      <td>Wake Up Alone</td>\n",
       "      <td>2006-01-01</td>\n",
       "      <td>0</td>\n",
       "      <td>False</td>\n",
       "      <td>4u83mwF5tUuWlXS86UOXdu</td>\n",
       "    </tr>\n",
       "    <tr>\n",
       "      <th>3</th>\n",
       "      <td>The Script</td>\n",
       "      <td>The Script</td>\n",
       "      <td>The Man Who Can't Be Moved</td>\n",
       "      <td>2008-09-08</td>\n",
       "      <td>57</td>\n",
       "      <td>False</td>\n",
       "      <td>4Musyaro0NM5Awx8b5c627</td>\n",
       "    </tr>\n",
       "    <tr>\n",
       "      <th>4</th>\n",
       "      <td>Adele</td>\n",
       "      <td>21</td>\n",
       "      <td>Rolling in the Deep</td>\n",
       "      <td>2011-01-19</td>\n",
       "      <td>55</td>\n",
       "      <td>False</td>\n",
       "      <td>1CkvWZme3pRgbzaxZnTl5X</td>\n",
       "    </tr>\n",
       "  </tbody>\n",
       "</table>\n",
       "</div>"
      ],
      "text/plain": [
       "          artist                                              album  \\\n",
       "0     Katy Perry  Katy Perry - Teenage Dream: The Complete Confe...   \n",
       "1    OneRepublic                                  Dreaming Out Loud   \n",
       "2  Amy Winehouse                                      Back To Black   \n",
       "3     The Script                                         The Script   \n",
       "4          Adele                                                 21   \n",
       "\n",
       "                   track_name release_date  popularity  is_explicit  \\\n",
       "0                    Firework   2012-03-12          72        False   \n",
       "1                  All We Are   2007-01-01          39        False   \n",
       "2               Wake Up Alone   2006-01-01           0        False   \n",
       "3  The Man Who Can't Be Moved   2008-09-08          57        False   \n",
       "4         Rolling in the Deep   2011-01-19          55        False   \n",
       "\n",
       "                 track_id  \n",
       "0  4lCv7b86sLynZbXhfScfm2  \n",
       "1  1Jx69b09LKTuBQxkEiFfVX  \n",
       "2  4u83mwF5tUuWlXS86UOXdu  \n",
       "3  4Musyaro0NM5Awx8b5c627  \n",
       "4  1CkvWZme3pRgbzaxZnTl5X  "
      ]
     },
     "execution_count": 4,
     "metadata": {},
     "output_type": "execute_result"
    }
   ],
   "source": [
    "#Explore first 5 rows of dataset \n",
    "df.head()"
   ]
  },
  {
   "cell_type": "code",
   "execution_count": 5,
   "metadata": {},
   "outputs": [
    {
     "data": {
      "text/plain": [
       "(9963, 7)"
      ]
     },
     "execution_count": 5,
     "metadata": {},
     "output_type": "execute_result"
    }
   ],
   "source": [
    "#Look at the shape of the dataset \n",
    "df.shape"
   ]
  },
  {
   "cell_type": "code",
   "execution_count": 12,
   "metadata": {},
   "outputs": [
    {
     "name": "stdout",
     "output_type": "stream",
     "text": [
      "<class 'pandas.core.frame.DataFrame'>\n",
      "RangeIndex: 9963 entries, 0 to 9962\n",
      "Data columns (total 7 columns):\n",
      "artist          9963 non-null object\n",
      "album           9963 non-null object\n",
      "track_name      9963 non-null object\n",
      "release_date    9963 non-null object\n",
      "popularity      9963 non-null int64\n",
      "is_explicit     9963 non-null bool\n",
      "track_id        9963 non-null object\n",
      "dtypes: bool(1), int64(1), object(5)\n",
      "memory usage: 476.9+ KB\n"
     ]
    }
   ],
   "source": [
    "df.info()"
   ]
  },
  {
   "cell_type": "code",
   "execution_count": 37,
   "metadata": {},
   "outputs": [],
   "source": [
    "#Turn release_date into a Datetime object \n",
    "df['release_date'] = pd.to_datetime(df['release_date'], format='%Y/%m/%d')"
   ]
  },
  {
   "cell_type": "code",
   "execution_count": 25,
   "metadata": {},
   "outputs": [
    {
     "data": {
      "text/plain": [
       "False    8964\n",
       "True      999\n",
       "Name: is_explicit, dtype: int64"
      ]
     },
     "execution_count": 25,
     "metadata": {},
     "output_type": "execute_result"
    }
   ],
   "source": [
    "#Print the value counts of the 'is_explicit' variable \n",
    "df['is_explicit'].value_counts()"
   ]
  },
  {
   "cell_type": "code",
   "execution_count": 32,
   "metadata": {},
   "outputs": [],
   "source": [
    "#Convert \"is_explicit\" to a variable that is equal to 1 if True, 0 if False\n",
    "df['is_explicit'] = df['is_explicit'].astype(int)"
   ]
  },
  {
   "cell_type": "code",
   "execution_count": 33,
   "metadata": {},
   "outputs": [
    {
     "data": {
      "text/plain": [
       "0    8964\n",
       "1     999\n",
       "Name: is_explicit, dtype: int64"
      ]
     },
     "execution_count": 33,
     "metadata": {},
     "output_type": "execute_result"
    }
   ],
   "source": [
    "#Print the value counts to ensure they are the same as before \n",
    "df['is_explicit'].value_counts()"
   ]
  },
  {
   "cell_type": "code",
   "execution_count": 13,
   "metadata": {},
   "outputs": [],
   "source": [
    "#Turn is_explicit to a variable that is 1 if True, 0 if False \n",
    "# variable_name = {'True' : 1 , 'False' : 0 }\n",
    "\n",
    "# df['is_explicit'] = df['is_explicit'].map(variable_name)"
   ]
  },
  {
   "cell_type": "code",
   "execution_count": 7,
   "metadata": {
    "scrolled": false
   },
   "outputs": [
    {
     "data": {
      "text/plain": [
       "artist          0\n",
       "album           0\n",
       "track_name      0\n",
       "release_date    0\n",
       "popularity      0\n",
       "is_explicit     0\n",
       "track_id        0\n",
       "dtype: int64"
      ]
     },
     "execution_count": 7,
     "metadata": {},
     "output_type": "execute_result"
    }
   ],
   "source": [
    "#Check for NA values \n",
    "df.isna().sum()"
   ]
  },
  {
   "cell_type": "code",
   "execution_count": null,
   "metadata": {},
   "outputs": [],
   "source": []
  }
 ],
 "metadata": {
  "kernelspec": {
   "display_name": "Python 3",
   "language": "python",
   "name": "python3"
  },
  "language_info": {
   "codemirror_mode": {
    "name": "ipython",
    "version": 3
   },
   "file_extension": ".py",
   "mimetype": "text/x-python",
   "name": "python",
   "nbconvert_exporter": "python",
   "pygments_lexer": "ipython3",
   "version": "3.6.9"
  }
 },
 "nbformat": 4,
 "nbformat_minor": 4
}
